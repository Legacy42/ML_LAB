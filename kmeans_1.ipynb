{
 "cells": [
  {
   "cell_type": "code",
   "execution_count": 49,
   "metadata": {},
   "outputs": [
    {
     "name": "stdout",
     "output_type": "stream",
     "text": [
      "Cluster 1 = [[1, 2], [0, 0]]\n",
      "Cluster 2 = [[2, 3], [2, 2.5]]\n",
      "Cluster 3 = [[4, 5], [6, 1], [8, 5]]\n"
     ]
    }
   ],
   "source": [
    "\n",
    "import math  \n",
    "c1 = []\n",
    "c2 = []\n",
    "c3 = []\n",
    "x1,y1 = 1,1\n",
    "x2,y2 = 2,2\n",
    "x3,y3 = 3,3\n",
    "p = [[1,2],\n",
    "         [2,3],\n",
    "         [0,0],\n",
    "         [2,2.5],\n",
    "         [4,5],\n",
    "         [6,1],\n",
    "         [8,5]]\n",
    "def eucl(a,b):\n",
    "    d1 = math.sqrt((a-x1)**2 + (b-y1)**2)\n",
    "    d2 = math.sqrt((a-x2)**2 + (b-y2)**2)\n",
    "    d3 = math.sqrt((a-x3)**2 + (b-y3)**2)\n",
    "    mind = min(d1,d2,d3)\n",
    "    if(mind == d1):\n",
    "        c1.append([a,b])\n",
    "    elif(mind == d2):\n",
    "        c2.append([a,b])\n",
    "    else:\n",
    "        c3.append([a,b])\n",
    "for i,j in p:\n",
    "    eucl(i,j)\n",
    "print(\"Cluster 1 =\",c1)\n",
    "print(\"Cluster 2 =\",c2)\n",
    "print(\"Cluster 3 =\",c3)"
   ]
  },
  {
   "cell_type": "code",
   "execution_count": 45,
   "metadata": {},
   "outputs": [
    {
     "name": "stdout",
     "output_type": "stream",
     "text": [
      "x1 = 0.5\n",
      "y1 = 1.0\n"
     ]
    }
   ],
   "source": [
    "si=0\n",
    "sj=0\n",
    "for i,j in c1:\n",
    "    si+=i\n",
    "    sj+=j\n",
    "new_x1=round(si/len(c1),3)\n",
    "new_y1=round(sj/len(c1),3)\n",
    "print(\"x1 =\",new_x1)\n",
    "print(\"y1 =\",new_y1)"
   ]
  },
  {
   "cell_type": "code",
   "execution_count": 46,
   "metadata": {},
   "outputs": [
    {
     "name": "stdout",
     "output_type": "stream",
     "text": [
      "x2 = 2.0\n",
      "y2 = 2.75\n"
     ]
    }
   ],
   "source": [
    "si=0\n",
    "sj=0\n",
    "for i,j in c2:\n",
    "    si+=i\n",
    "    sj+=j\n",
    "new_x2=round(si/len(c2),3)\n",
    "new_y2=round(sj/len(c2),3)\n",
    "print(\"x2 =\",new_x2)\n",
    "print(\"y2 =\",new_y2)"
   ]
  },
  {
   "cell_type": "code",
   "execution_count": 47,
   "metadata": {},
   "outputs": [
    {
     "name": "stdout",
     "output_type": "stream",
     "text": [
      "x3 = 6.0\n",
      "y3 = 3.667\n"
     ]
    }
   ],
   "source": [
    "si=0\n",
    "sj=0\n",
    "for i,j in c3:\n",
    "    si+=i\n",
    "    sj+=j\n",
    "new_x3=round(si/len(c3),3)\n",
    "new_y3=round(sj/len(c3),3)\n",
    "print(\"x3 =\",new_x3)\n",
    "print(\"y3 =\",new_y3)"
   ]
  }
 ],
 "metadata": {
  "kernelspec": {
   "display_name": "Python 3",
   "language": "python",
   "name": "python3"
  },
  "language_info": {
   "codemirror_mode": {
    "name": "ipython",
    "version": 3
   },
   "file_extension": ".py",
   "mimetype": "text/x-python",
   "name": "python",
   "nbconvert_exporter": "python",
   "pygments_lexer": "ipython3",
   "version": "3.8.5"
  }
 },
 "nbformat": 4,
 "nbformat_minor": 4
}
