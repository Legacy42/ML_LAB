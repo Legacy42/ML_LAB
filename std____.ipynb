{
 "cells": [
  {
   "cell_type": "code",
   "execution_count": 3,
   "metadata": {},
   "outputs": [
    {
     "name": "stdout",
     "output_type": "stream",
     "text": [
      "mean = 3.5\n",
      "std_deviation = 1.9790570145063195\n",
      "standardisation = [-0.2526455763199557, 0.7579367289598671, -0.7579367289598671, 1.7685190342396897, -1.2632278815997784, -0.2526455763199557]\n"
     ]
    }
   ],
   "source": [
    "import math\n",
    "data = [3,5,2,7,1,3]\n",
    "n = len(data)\n",
    "mean = sum(data) / n\n",
    "print(\"mean =\",mean)\n",
    "deviations = [(x - mean) ** 2 for x in data]\n",
    "variance = sum(deviations) / n\n",
    "std = math.sqrt(variance)\n",
    "print(\"std_deviation =\",std)\n",
    "st = [(x-mean)/std for x in data]\n",
    "print(\"standardisation =\",st)\n"
   ]
  }
 ],
 "metadata": {
  "kernelspec": {
   "display_name": "Python 3",
   "language": "python",
   "name": "python3"
  },
  "language_info": {
   "codemirror_mode": {
    "name": "ipython",
    "version": 3
   },
   "file_extension": ".py",
   "mimetype": "text/x-python",
   "name": "python",
   "nbconvert_exporter": "python",
   "pygments_lexer": "ipython3",
   "version": "3.6.9"
  }
 },
 "nbformat": 4,
 "nbformat_minor": 2
}
