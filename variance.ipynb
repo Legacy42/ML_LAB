{
 "cells": [
  {
   "cell_type": "code",
   "execution_count": 9,
   "metadata": {},
   "outputs": [
    {
     "name": "stdout",
     "output_type": "stream",
     "text": [
      "mean = 3.5\n",
      "variance = 3.9166666666666665\n",
      "std_deviation = 1.9790570145063195\n"
     ]
    }
   ],
   "source": [
    "import math\n",
    "data = [3,5,2,7,1,3]\n",
    "n = len(data)\n",
    "mean = sum(data) / n\n",
    "print(\"mean =\",mean)\n",
    "deviations = [(x - mean) ** 2 for x in data]\n",
    "variance = sum(deviations) / n\n",
    "print(\"variance =\",variance)\n",
    "std = math.sqrt(variance)\n",
    "print(\"std_deviation =\",std)"
   ]
  }
 ],
 "metadata": {
  "kernelspec": {
   "display_name": "Python 3",
   "language": "python",
   "name": "python3"
  },
  "language_info": {
   "codemirror_mode": {
    "name": "ipython",
    "version": 3
   },
   "file_extension": ".py",
   "mimetype": "text/x-python",
   "name": "python",
   "nbconvert_exporter": "python",
   "pygments_lexer": "ipython3",
   "version": "3.6.9"
  }
 },
 "nbformat": 4,
 "nbformat_minor": 2
}
